{
 "cells": [
  {
   "cell_type": "code",
   "execution_count": null,
   "id": "spectacular-merchandise",
   "metadata": {},
   "outputs": [],
   "source": [
    "from sqlalchemy import create_engine\n",
    "import psycopg2\n",
    "import psycopg2.extras as extras\n",
    "import pandas as pd\n",
    "import openpyxl"
   ]
  },
  {
   "cell_type": "code",
   "execution_count": null,
   "id": "documentary-spending",
   "metadata": {},
   "outputs": [],
   "source": [
    "param_dic = {\n",
    "    \"host\"      : \"127.0.0.1\",\n",
    "    \"database\"  : \"taxis\",\n",
    "    \"user\"      : \"postgres\",\n",
    "    \"password\"  : \"Snowdav3\"\n",
    "}"
   ]
  },
  {
   "cell_type": "code",
   "execution_count": null,
   "id": "extra-reputation",
   "metadata": {},
   "outputs": [],
   "source": [
    "def connect(params_dic):\n",
    "    \"\"\" Connect to the PostgreSQL database server \"\"\"\n",
    "    conn = None\n",
    "    try:\n",
    "        # connect to the PostgreSQL server\n",
    "        print('Connecting to the PostgreSQL database...')\n",
    "        conn = psycopg2.connect(**params_dic)\n",
    "    except (Exception, psycopg2.DatabaseError) as error:\n",
    "        print(error)\n",
    "        sys.exit(1) \n",
    "    print('Connection succesful')\n",
    "    \n",
    "    return conn\n",
    "\n",
    "conn = connect(param_dic)\n",
    "cursor = conn. cursor()"
   ]
  },
  {
   "cell_type": "code",
   "execution_count": null,
   "id": "front-trader",
   "metadata": {},
   "outputs": [],
   "source": [
    "def time_lapse(seconds):\n",
    "    seconds_in_day = 60 * 60 * 24\n",
    "    seconds_in_hour = 60 * 60\n",
    "    seconds_in_minute = 60\n",
    "    \n",
    "    days = seconds // seconds_in_day\n",
    "    hours = (seconds - (days * seconds_in_day)) // seconds_in_hour\n",
    "    minutes = (seconds - (days * seconds_in_day) - (hours * seconds_in_hour)) // seconds_in_minute\n",
    "    \n",
    "    return f\"{days} days, {hours} hours, {minutes} minutes\""
   ]
  },
  {
   "cell_type": "markdown",
   "id": "disabled-control",
   "metadata": {},
   "source": [
    "# Parte 1 - SQL"
   ]
  },
  {
   "cell_type": "markdown",
   "id": "static-subcommittee",
   "metadata": {},
   "source": [
    "1. \n",
    "    a) ¿Puedes describirnos el procedimiento que has seguido para cargar los tres ficheros?"
   ]
  },
  {
   "cell_type": "markdown",
   "id": "labeled-circular",
   "metadata": {},
   "source": [
    "- Mediante Requests solicito el html vía http del link proporcionado.\n",
    "- Con BeautifoulSoup filtro por los div por año mediante el tag id=\"faq{year}\". \n",
    "- De estos divs seleceiono los tag 'ul' (que contienen los links csv href) para los meses indicados"
   ]
  },
  {
   "cell_type": "markdown",
   "id": "deadly-respondent",
   "metadata": {},
   "source": [
    "1.    \n",
    "    b) ¿Puedes compartirnos la definición de la tabla que estás usando para contestar las\n",
    "preguntas planteadas?"
   ]
  },
  {
   "cell_type": "markdown",
   "id": "mature-christmas",
   "metadata": {},
   "source": []
  },
  {
   "cell_type": "markdown",
   "id": "north-beaver",
   "metadata": {},
   "source": [
    "2. Una vez cargados los tres ficheros en tu base de datos, ¿cuántos registros tiene la\n",
    "tabla? Compártenos la SQL que has usado."
   ]
  },
  {
   "cell_type": "code",
   "execution_count": null,
   "id": "tracked-operations",
   "metadata": {},
   "outputs": [],
   "source": [
    "registros = '''SELECT COUNT(vendorid) AS registros_totales\n",
    "FROM yellowtaxis;\n",
    "'''\n",
    "conn.rollback()\n",
    "cursor.execute(registros)\n",
    "result = cursor.fetchall()[0]\n",
    "print(f\"La tabla yellowtaxis de la database {conn.info.dbname} contiene {result[0]} registros\")"
   ]
  },
  {
   "cell_type": "markdown",
   "id": "manual-rebel",
   "metadata": {},
   "source": [
    "3. Para cada uno de los tres meses con datos ¿podrías decirnos cuál es el trayecto más\n",
    "corto, más largo y el trayecto medio?, en distancia y en tiempo. Compártenos la\n",
    "sentencia SQL que has usado.\n"
   ]
  },
  {
   "cell_type": "code",
   "execution_count": null,
   "id": "asian-american",
   "metadata": {},
   "outputs": [],
   "source": [
    "def execute(month: int, trip_metric, trip_measure):\n",
    "    \n",
    "    query = None\n",
    "    if trip_metric == 'longest':\n",
    "        if trip_measure == 'time':\n",
    "            longest_trip_time = f'''\n",
    "                SELECT vendorid, month, tpep_pickup_datetime, tpep_dropoff_datetime, trip_duration_seconds, trip_duration\n",
    "                FROM yellowtaxis\n",
    "                WHERE month = '{month}'\n",
    "                ORDER BY trip_duration_seconds DESC\n",
    "                LIMIT 1;\n",
    "            '''\n",
    "            query = longest_trip_time\n",
    "        elif trip_measure == 'distance':\n",
    "            longest_trip_distance = f'''\n",
    "                SELECT vendorid, month, tpep_pickup_datetime, tpep_dropoff_datetime,\n",
    "                trip_duration_seconds, trip_duration, trip_distance\n",
    "                FROM yellowtaxis\n",
    "                WHERE month = '{month}'\n",
    "                ORDER BY trip_distance DESC\n",
    "                LIMIT 1;\n",
    "            '''\n",
    "            query = longest_trip_distance\n",
    "            \n",
    "    elif trip_metric == 'shortest':\n",
    "        if trip_measure == 'time':\n",
    "            shortest_trip_time = f'''\n",
    "                SELECT *\n",
    "                FROM yellowtaxis\n",
    "                WHERE month = '{month}' AND trip_distance > 0 AND trip_duration_seconds > 0\n",
    "                ORDER BY trip_duration_seconds ASC,\n",
    "                trip_distance ASC\n",
    "                LIMIT 1;\n",
    "\n",
    "            '''\n",
    "            query = shortest_trip_time\n",
    "            \n",
    "        elif trip_measure == 'distance':\n",
    "            shortest_trip_distance = f'''\n",
    "                SELECT *\n",
    "                FROM yellowtaxis\n",
    "                WHERE month = '{month}' AND trip_distance > 0 AND trip_duration_seconds > 0\n",
    "                ORDER BY trip_distance ASC,\n",
    "                trip_duration_seconds ASC\n",
    "                LIMIT 1;\n",
    "\n",
    "            '''\n",
    "            query = shortest_trip_distance\n",
    "    \n",
    "    elif trip_metric == 'average':\n",
    "        if trip_measure == 'time':\n",
    "            avg_trip_time = f'''\n",
    "                SELECT AVG(trip_duration_seconds) AS trip_duration_avg\n",
    "                FROM yellowtaxis\n",
    "                WHERE month = '{month}' AND trip_distance > 0 AND trip_duration_seconds > 0\n",
    "\n",
    "            '''\n",
    "            query = avg_trip_time\n",
    "            \n",
    "        elif trip_measure == 'distance':\n",
    "            avg_trip_distance = f'''\n",
    "                SELECT AVG(trip_distance) AS trip_distance_avg\n",
    "                FROM yellowtaxis\n",
    "                WHERE month = '{month}' AND trip_distance > 0 AND trip_duration_seconds > 0\n",
    "\n",
    "            '''\n",
    "            query =  avg_trip_distance\n",
    "    \n",
    "    cursor.execute(query)\n",
    "    result = cursor.fetchall()[0]\n",
    "    \n",
    "    return result"
   ]
  },
  {
   "cell_type": "markdown",
   "id": "confused-start",
   "metadata": {},
   "source": [
    "# January"
   ]
  },
  {
   "cell_type": "code",
   "execution_count": null,
   "id": "historic-causing",
   "metadata": {},
   "outputs": [],
   "source": [
    "# Longest time\n",
    "jan_lg_t = execute(1, 'longest', 'time')\n",
    "print()\n",
    "print(f\"Longest yellow taxi trip time from January 2020 took: {jan_lg_t[-1]}\")\n",
    "print()\n",
    "\n",
    "# Longest distance\n",
    "\n",
    "jan_lg_d = execute(1, 'longest', 'distance')\n",
    "print()\n",
    "print(f\"Longest yellow taxi trip distance from January 2020 was: {jan_lg_d[-1]} miles\")\n",
    "print()"
   ]
  },
  {
   "cell_type": "code",
   "execution_count": null,
   "id": "democratic-brass",
   "metadata": {},
   "outputs": [],
   "source": [
    "# Shortest time\n",
    "jan_st_t = execute(1, 'shortest', 'time')\n",
    "print()\n",
    "print(f\"Shortest yellow taxi trip time from January 2020 took: {jan_st_t[4]} seconds\")\n",
    "print()\n",
    "\n",
    "# Shortest distance\n",
    "jan_st_d = execute(1, 'shortest', 'distance')\n",
    "print()\n",
    "print(f\"Shortest yellow taxi trip distance from January 2020 was: {jan_st_d[7]} miles\")\n",
    "print()"
   ]
  },
  {
   "cell_type": "code",
   "execution_count": null,
   "id": "tough-pharmacology",
   "metadata": {},
   "outputs": [],
   "source": [
    "# Average\n",
    "jan_avg_t =  execute(1, 'average', 'time')\n",
    "print()\n",
    "print(f\"Average yellow taxi trip time from January 2020 was: {time_lapse(jan_avg_t[0])}\")\n",
    "print()\n",
    "\n",
    "# Average distance\n",
    "jan_avg_d = execute(1, 'average', 'distance')\n",
    "print()\n",
    "print(f\"Average yellow taxi trip distance from January 2020 was: {jan_avg_d[0]} miles\")\n",
    "print()"
   ]
  },
  {
   "cell_type": "markdown",
   "id": "virtual-rescue",
   "metadata": {},
   "source": [
    "# February "
   ]
  },
  {
   "cell_type": "code",
   "execution_count": null,
   "id": "graphic-mentor",
   "metadata": {},
   "outputs": [],
   "source": [
    "feb_lg_t = execute(2, 'longest', 'time')\n",
    "print()\n",
    "print(f\"Longest yellow taxi trip time from February 2020 took: {feb_lg_t[-1]}\")\n",
    "print()\n",
    "\n",
    "# Longest distance\n",
    "\n",
    "feb_lg_d = execute(2, 'longest', 'distance')\n",
    "print()\n",
    "print(f\"Longest yellow taxi trip distance from February 2020 was: {feb_lg_d[-1]} miles\")\n",
    "print()"
   ]
  },
  {
   "cell_type": "code",
   "execution_count": null,
   "id": "brutal-claim",
   "metadata": {},
   "outputs": [],
   "source": [
    "# Shortest time\n",
    "feb_st_t = execute(2, 'shortest', 'time')\n",
    "print()\n",
    "print(f\"Shortest yellow taxi trip time from February 2020 took: {feb_st_t[4]} seconds\")\n",
    "print()\n",
    "\n",
    "# Shortest distance\n",
    "feb_st_d = execute(2, 'shortest', 'distance')\n",
    "print()\n",
    "print(f\"Shortest yellow taxi trip distance from February 2020 was: {feb_st_d[7]} miles\")\n",
    "print()"
   ]
  },
  {
   "cell_type": "code",
   "execution_count": null,
   "id": "brown-timothy",
   "metadata": {},
   "outputs": [],
   "source": [
    "# Average\n",
    "feb_avg_t =  execute(2, 'average', 'time')\n",
    "print()\n",
    "print(f\"Average yellow taxi trip time from February 2020 was: {time_lapse(feb_avg_t[0])}\")\n",
    "print()\n",
    "\n",
    "# Average distance\n",
    "feb_avg_d = execute(2, 'average', 'distance')\n",
    "print()\n",
    "print(f\"Average yellow taxi trip distance from February 2020 was: {feb_avg_d[0]} miles\")\n",
    "print()"
   ]
  },
  {
   "cell_type": "markdown",
   "id": "large-advertiser",
   "metadata": {},
   "source": [
    "# March"
   ]
  },
  {
   "cell_type": "code",
   "execution_count": null,
   "id": "several-postage",
   "metadata": {},
   "outputs": [],
   "source": [
    "mar_lg_t = execute(3, 'longest', 'time')\n",
    "print()\n",
    "print(f\"Longest yellow taxi trip time from March 2020 took: {mar_lg_t[-1]}\")\n",
    "print()\n",
    "\n",
    "# Longest distance\n",
    "mar_lg_d = execute(3, 'longest', 'distance')\n",
    "print()\n",
    "print(f\"Longest yellow taxi trip distance from March 2020 was: {mar_lg_d[-1]} miles\")\n",
    "print()"
   ]
  },
  {
   "cell_type": "code",
   "execution_count": null,
   "id": "dress-passage",
   "metadata": {},
   "outputs": [],
   "source": [
    "# Shortest time\n",
    "mar_st_t = execute(3, 'shortest', 'time')\n",
    "print()\n",
    "print(f\"Shortest yellow taxi trip time from February 2020 took: {jan_st_t[4]} seconds\")\n",
    "print()\n",
    "\n",
    "# Shortest distance\n",
    "mar_st_d = execute(3, 'shortest', 'distance')\n",
    "print()\n",
    "print(f\"Shortest yellow taxi trip distance from March 2020 was: {mar_st_d[7]} miles\")\n",
    "print()"
   ]
  },
  {
   "cell_type": "code",
   "execution_count": null,
   "id": "amber-childhood",
   "metadata": {},
   "outputs": [],
   "source": [
    "# Average\n",
    "mar_avg_t =  execute(3, 'average', 'time')\n",
    "print()\n",
    "print(f\"Average yellow taxi trip time from March 2020 was: {time_lapse(mar_avg_t[0])}\")\n",
    "print()\n",
    "\n",
    "# Average distance\n",
    "mar_avg_d = execute(3, 'average', 'distance')\n",
    "print()\n",
    "print(f\"Average yellow taxi trip distance from March 2020 was: {mar_avg_d[0]} miles\")\n",
    "print()"
   ]
  },
  {
   "cell_type": "markdown",
   "id": "latest-recruitment",
   "metadata": {},
   "source": [
    "4. Para cada uno de los tres meses con datos ¿podrías decirnos cuánta es la variación\n",
    "porcentual en el número de servicios registrados con respecto al mes anterior? Por\n",
    "ejemplo, en esta pregunta nos gustaría obtener un resultado así. Compártenos la\n",
    "sentencia SQL que has usado"
   ]
  },
  {
   "cell_type": "code",
   "execution_count": null,
   "id": "wicked-circus",
   "metadata": {},
   "outputs": [],
   "source": []
  },
  {
   "cell_type": "code",
   "execution_count": null,
   "id": "heated-clinic",
   "metadata": {},
   "outputs": [],
   "source": []
  },
  {
   "cell_type": "markdown",
   "id": "certified-standard",
   "metadata": {},
   "source": [
    "# Parte 2 - Django"
   ]
  },
  {
   "cell_type": "code",
   "execution_count": null,
   "id": "incident-kelly",
   "metadata": {},
   "outputs": [],
   "source": []
  },
  {
   "cell_type": "markdown",
   "id": "bright-harassment",
   "metadata": {},
   "source": [
    "# Parte 3 - Reporting"
   ]
  },
  {
   "cell_type": "markdown",
   "id": "severe-roommate",
   "metadata": {},
   "source": [
    "- Empleando Python 3 generar un fichero Excel que contenga tres pestañas.\n",
    "- Para este ejercicio las transformaciones queremos que se hagan en Pandas y no una\n",
    "sentencia SQL\n",
    "- Eplea el método/libreria de tu preferencia para generar el fichero Excel\n",
    "- La información que queremos que se muestre en cada una de las pestañas es una\n",
    "agrupación por mes y tipo de dia:\n",
    "    - MES: Tendrá el formato año-mes, por ejemplo 2020-01\n",
    "    -Tipo_dia: Tendrá el valor 1 si el viaje se realizó entre el lunes y el viernes\n",
    "(ambos inclusive) y 2 si se hizo en fin de semana\n",
    "    - Personas transportadas: El total de personas que han usado el servicio de Taxis\n",
    "para ese mes y tipo_dia\n",
    "    - Millas recorridas: El total de millas recorridas para ese mes y tipo_dia\n",
    "    - Total servicios: El total de servicios que realizados para ese mes y tipo_dia\n",
    "\n",
    "- Pestaña JFK: Tendrá la agrupación descrita para todos los viajes que tengan un 2 en la\n",
    "variable RateCodeID\n",
    "- Pestaña regular: Tendrá la agrupación descrita para todos los viajes que tengan un 1 en\n",
    "la variable RateCodeID\n",
    "- Pestaña Others: Tendrá la agrupación descrita para todos los viajes que no tengan ni un\n",
    "1 ni un 2 en la variable RateCodeID"
   ]
  },
  {
   "cell_type": "code",
   "execution_count": null,
   "id": "previous-hormone",
   "metadata": {},
   "outputs": [],
   "source": [
    "############################################################################################################"
   ]
  },
  {
   "cell_type": "code",
   "execution_count": null,
   "id": "subsequent-seller",
   "metadata": {},
   "outputs": [],
   "source": [
    "name = \"2020_yellow_jan_feb_mar.csv\"\n",
    "jan_feb_mar = pd.read_csv(name)"
   ]
  },
  {
   "cell_type": "code",
   "execution_count": null,
   "id": "attached-northern",
   "metadata": {},
   "outputs": [],
   "source": [
    "jan_feb_mar"
   ]
  },
  {
   "cell_type": "code",
   "execution_count": null,
   "id": "tough-sarah",
   "metadata": {},
   "outputs": [],
   "source": [
    "month_col = 'month'\n",
    "start_date_col = 'tpep_pickup_datetime'\n",
    "final_date_col = 'tpep_dropoff_datetime'\n",
    "passenger_col = 'passenger_count'\n",
    "distance_col = 'trip_distance'\n",
    "ratecode_col = 'RatecodeID'\n",
    "\n",
    "df = jan_feb_mar.copy()\n",
    "\n",
    "df = df[[month_col, start_date_col, final_date_col, passenger_col, distance_col, ratecode_col]]\n",
    "df = df[(df[start_date_col] > '2020-01-01') & (df[start_date_col] <= '2020-03-31')]\n",
    "\n",
    "type_object = df.select_dtypes(include='object').columns.to_list()\n",
    "for elem in type_object:\n",
    "        df[f\"{elem}\"] = pd.to_datetime(df[f\"{elem}\"], yearfirst=True, format=\"%Y/%m/%d %H:%M:%S\")\n",
    "        \n",
    "df['day_of_week'] = df['tpep_pickup_datetime'].dt.dayofweek\n",
    "df['tipo_dia'] = df['day_of_week'].apply(lambda x: 1 if x in range(0,5) else 2)\n",
    "df['total_servicios'] = 1\n",
    "df['mes'] = df['tpep_pickup_datetime'].dt.strftime('%Y-%m')\n",
    "\n",
    "df.rename(columns={\"trip_distance\": \"millas_recorridas\",\n",
    "                   \"passenger_count\":\"personas_transportadas\"}, \n",
    "          inplace=True)\n"
   ]
  },
  {
   "cell_type": "code",
   "execution_count": null,
   "id": "lucky-neighbor",
   "metadata": {},
   "outputs": [],
   "source": [
    "df"
   ]
  },
  {
   "cell_type": "code",
   "execution_count": null,
   "id": "employed-gravity",
   "metadata": {},
   "outputs": [],
   "source": [
    "table = df.copy()\n",
    "table = table[['mes', 'tipo_dia', 'personas_transportadas', 'millas_recorridas', 'total_servicios', 'RatecodeID']]\n",
    "table"
   ]
  },
  {
   "cell_type": "markdown",
   "id": "prescription-consciousness",
   "metadata": {},
   "source": [
    "- Pestaña JFK: Tendrá la agrupación descrita para todos los viajes que tengan un 2 en la\n",
    "variable RateCodeID"
   ]
  },
  {
   "cell_type": "code",
   "execution_count": null,
   "id": "institutional-colony",
   "metadata": {},
   "outputs": [],
   "source": [
    "# Agrupamos por las variables indicadas\n",
    "jfk = table.copy()\n",
    "jfk = jfk.groupby(['mes', 'tipo_dia', 'RatecodeID']).sum().reset_index()\n",
    "jfk"
   ]
  },
  {
   "cell_type": "code",
   "execution_count": null,
   "id": "whole-christmas",
   "metadata": {},
   "outputs": [],
   "source": [
    "# Filtramos RaatecodeID = 2\n",
    "jfk = jfk[jfk['RatecodeID'] == 2]\n",
    "jfk"
   ]
  },
  {
   "cell_type": "code",
   "execution_count": null,
   "id": "compact-dealer",
   "metadata": {},
   "outputs": [],
   "source": [
    "jfk.drop(columns=['RatecodeID'], inplace=True)\n",
    "jfk"
   ]
  },
  {
   "cell_type": "code",
   "execution_count": null,
   "id": "executed-guard",
   "metadata": {},
   "outputs": [],
   "source": [
    "#table.groupby('mes').sum().reset_index()"
   ]
  },
  {
   "cell_type": "markdown",
   "id": "severe-azerbaijan",
   "metadata": {},
   "source": [
    "- Pestaña regular: Tendrá la agrupación descrita para todos los viajes que tengan un 1 en\n",
    "la variable RateCodeID"
   ]
  },
  {
   "cell_type": "code",
   "execution_count": null,
   "id": "nearby-opinion",
   "metadata": {},
   "outputs": [],
   "source": [
    "regular = table.copy()\n",
    "regular = regular.groupby(['mes', 'tipo_dia', 'RatecodeID']).sum().reset_index()\n",
    "regular"
   ]
  },
  {
   "cell_type": "code",
   "execution_count": null,
   "id": "straight-compound",
   "metadata": {},
   "outputs": [],
   "source": [
    "regular = regular[regular['RatecodeID'] == 1]\n",
    "regular"
   ]
  },
  {
   "cell_type": "code",
   "execution_count": null,
   "id": "spoken-cherry",
   "metadata": {},
   "outputs": [],
   "source": [
    "regular.drop(columns=['RatecodeID'], inplace=True)\n",
    "regular"
   ]
  },
  {
   "cell_type": "markdown",
   "id": "provincial-cleanup",
   "metadata": {},
   "source": [
    "- Pestaña Others: Tendrá la agrupación descrita para todos los viajes que no tengan ni un\n",
    "1 ni un 2 en la variable RateCodeID"
   ]
  },
  {
   "cell_type": "code",
   "execution_count": null,
   "id": "photographic-america",
   "metadata": {},
   "outputs": [],
   "source": [
    "others = table.copy()\n",
    "others = others.groupby(['mes', 'tipo_dia', 'RatecodeID']).sum().reset_index()\n",
    "others"
   ]
  },
  {
   "cell_type": "code",
   "execution_count": null,
   "id": "british-ghana",
   "metadata": {},
   "outputs": [],
   "source": [
    "others = others[(others['RatecodeID']) != 1 & (others['RatecodeID'] != 2)]\n",
    "others.head(15)"
   ]
  },
  {
   "cell_type": "code",
   "execution_count": null,
   "id": "marked-newsletter",
   "metadata": {},
   "outputs": [],
   "source": [
    "others.drop(columns=['RatecodeID'], inplace=True)\n",
    "others"
   ]
  },
  {
   "cell_type": "code",
   "execution_count": null,
   "id": "composed-description",
   "metadata": {},
   "outputs": [],
   "source": [
    "with pd.ExcelWriter('report.xlsx') as writer:  \n",
    "    jfk.to_excel(writer, sheet_name='JFK')\n",
    "    regular.to_excel(writer, sheet_name='Regular')\n",
    "    others.to_excel(writer, sheet_name='Others')"
   ]
  },
  {
   "cell_type": "markdown",
   "id": "copyrighted-edinburgh",
   "metadata": {},
   "source": [
    "# Comprobaciones error de fuente"
   ]
  },
  {
   "cell_type": "code",
   "execution_count": null,
   "id": "missing-default",
   "metadata": {},
   "outputs": [],
   "source": [
    "raise ValueError(\"stop here\")"
   ]
  },
  {
   "cell_type": "markdown",
   "id": "organizational-baghdad",
   "metadata": {},
   "source": [
    "Los ficheros CSV originales contienen registros con fechas de meses (y años) tanto posteriores como anteriores"
   ]
  },
  {
   "cell_type": "code",
   "execution_count": null,
   "id": "stunning-vault",
   "metadata": {},
   "outputs": [],
   "source": [
    "jan = pd.read_csv('https://s3.amazonaws.com/nyc-tlc/trip+data/yellow_tripdata_2020-01.csv')\n",
    "jan"
   ]
  },
  {
   "cell_type": "code",
   "execution_count": null,
   "id": "european-facing",
   "metadata": {},
   "outputs": [],
   "source": [
    "jan[(jan['tpep_pickup_datetime'] < '2020-01-01') | (jan['tpep_pickup_datetime'] > '2020-03-31')]"
   ]
  },
  {
   "cell_type": "code",
   "execution_count": null,
   "id": "suspended-calibration",
   "metadata": {},
   "outputs": [],
   "source": []
  },
  {
   "cell_type": "code",
   "execution_count": null,
   "id": "liberal-exemption",
   "metadata": {},
   "outputs": [],
   "source": []
  }
 ],
 "metadata": {
  "kernelspec": {
   "display_name": "Python [conda env:work]",
   "language": "python",
   "name": "conda-env-work-py"
  },
  "language_info": {
   "codemirror_mode": {
    "name": "ipython",
    "version": 3
   },
   "file_extension": ".py",
   "mimetype": "text/x-python",
   "name": "python",
   "nbconvert_exporter": "python",
   "pygments_lexer": "ipython3",
   "version": "3.7.9"
  }
 },
 "nbformat": 4,
 "nbformat_minor": 5
}
