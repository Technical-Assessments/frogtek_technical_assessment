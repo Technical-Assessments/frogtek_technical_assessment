{
 "cells": [
  {
   "cell_type": "code",
   "execution_count": 1,
   "id": "responsible-divide",
   "metadata": {},
   "outputs": [],
   "source": [
    "import requests\n",
    "from bs4 import BeautifulSoup\n",
    "import pandas as pd\n",
    "import numpy as np"
   ]
  },
  {
   "cell_type": "code",
   "execution_count": 2,
   "id": "partial-piece",
   "metadata": {},
   "outputs": [],
   "source": [
    "year_html = None #########"
   ]
  },
  {
   "cell_type": "code",
   "execution_count": 3,
   "id": "boolean-apparatus",
   "metadata": {},
   "outputs": [],
   "source": [
    "def soup(year):\n",
    "    \n",
    "    url = \"https://www1.nyc.gov/site/tlc/about/tlc-trip-record-data.page\"\n",
    "    \n",
    "    print(f\"Asking for http content from {url}\")\n",
    "    response = requests.get(url).text\n",
    "    soup = BeautifulSoup(response, \"html.parser\")\n",
    "    \n",
    "    print(f\"Filtering by year {year}...\")\n",
    "    global year_html\n",
    "    year_html = soup.find_all(\"div\", id=f\"faq{year}\")[0] ##############\n",
    "    print(f\"html generated\")\n",
    "    \n",
    "    ########return years"
   ]
  },
  {
   "cell_type": "code",
   "execution_count": 4,
   "id": "broke-dodge",
   "metadata": {},
   "outputs": [],
   "source": [
    "def df(year, month):\n",
    "    ###########year_html = soup(year)\n",
    "    months_available = [elem.get_text(strip=True) for elem in year_html.find_all(['b'])]\n",
    "    \n",
    "    print(f\"Checking month requested {month} vs months available in the html content...\")\n",
    "    if month not in months_available:\n",
    "        raise ValueError(f\"month provided does not match with available months, check spelling {months_available}\")\n",
    "    \n",
    "    print(f\"Month provided is valid. Filtering by month...\")\n",
    "    filter_by_month = year_html.find(string=f\"{month}\").parent.findNext('ul')\n",
    "    links = [elem.a['href'] for elem in filter_by_month.find_all('li')]\n",
    "    description = [elem.a.text for elem in filter_by_month.find_all('li')]\n",
    "    \n",
    "    final_df = pd.DataFrame({'month': month, 'links': links, 'description': description})\n",
    "    \n",
    "    pd.set_option('display.max_colwidth', None)\n",
    "    \n",
    "    return final_df"
   ]
  },
  {
   "cell_type": "code",
   "execution_count": 5,
   "id": "smoking-offense",
   "metadata": {},
   "outputs": [],
   "source": [
    "#df(2020, 'January')"
   ]
  },
  {
   "cell_type": "code",
   "execution_count": 6,
   "id": "equal-river",
   "metadata": {},
   "outputs": [],
   "source": [
    "def create_links_table(year, *month):\n",
    "    \n",
    "    links = pd.DataFrame()\n",
    "    \n",
    "    for elem in month:\n",
    "        links = links.append(df(year, elem), ignore_index=True)\n",
    " \n",
    "    print(\"Generating csv links table\")\n",
    "    \n",
    "    return links\n",
    "    "
   ]
  },
  {
   "cell_type": "code",
   "execution_count": 7,
   "id": "moderate-station",
   "metadata": {},
   "outputs": [],
   "source": [
    "#result = create_links_table(2020, 'January', 'February', 'March')"
   ]
  },
  {
   "cell_type": "code",
   "execution_count": 8,
   "id": "solved-africa",
   "metadata": {},
   "outputs": [],
   "source": [
    "#result"
   ]
  },
  {
   "cell_type": "code",
   "execution_count": 9,
   "id": "possible-renewal",
   "metadata": {},
   "outputs": [],
   "source": [
    "#csv = result[result['description'].str.contains('Yellow')]['links']#['links'][0]\n",
    "#csv"
   ]
  },
  {
   "cell_type": "code",
   "execution_count": 10,
   "id": "corrected-plaza",
   "metadata": {},
   "outputs": [],
   "source": [
    "def csv_to_df(year, taxi_color ,*month):\n",
    "    \n",
    "    soup(year) ###\n",
    "    \n",
    "    print(f\"list of months requested: {month}\")\n",
    "    links_table = create_links_table(year, *month)\n",
    "    links_table = links_table[links_table['description'].str.contains(taxi_color)]['links']\n",
    "    print(links_table)\n",
    "    \n",
    "    final_df = pd.DataFrame()\n",
    "    \n",
    "    for elem in links_table:\n",
    "        print(f\"Reading csv {elem}\")\n",
    "        final_df = final_df.append(pd.read_csv(elem), ignore_index=True)\n",
    "        print(\"Completed\")\n",
    "    \n",
    "\n",
    "    type_object = final_df.select_dtypes(include='object').columns.to_list()\n",
    "    type_object.pop()\n",
    "    \n",
    "    for elem in type_object:\n",
    "        final_df[f\"{elem}\"] = pd.to_datetime(final_df[f\"{elem}\"], yearfirst=True, format=\"%Y/%m/%d\")\n",
    "    \n",
    "    name = str(2020) + '_' + ','.join(month).replace(',', '_') + '_' + f'{taxi_color}' + '.csv'\n",
    "    print(\"Generating csv\")\n",
    "    final_df.to_csv(name, index=False)\n",
    "    print(\"csv generated\")\n",
    "    \n",
    "    #return final_df\n",
    "    "
   ]
  },
  {
   "cell_type": "markdown",
   "id": "patient-cologne",
   "metadata": {
    "jupyter": {
     "source_hidden": true
    }
   },
   "source": [
    "def csv_to_df(year, taxi_color ,*month):\n",
    "    \n",
    "    soup(year) ###\n",
    "    \n",
    "    print(f\"list of months requested: {month}\")\n",
    "    links_table = create_links_table(year, *month)\n",
    "    links_table = links_table[links_table['description'].str.contains(taxi_color)]['links']\n",
    "    print(links_table)\n",
    "    \n",
    "    #final_df = pd.DataFrame()\n",
    "    \n",
    "    for elem in links_table:\n",
    "        print(f\"Reading csv {elem}\")\n",
    "        single_df = pd.read_csv(f\"{elem}\")\n",
    "        type_object = single_df.select_dtypes(include='object').columns.to_list()\n",
    "        type_object.pop()\n",
    "        for typ in type_object:\n",
    "            single_df[f\"{typ}\"] = pd.to_datetime(single_df[f\"{typ}\"], yearfirst=True, format=\"%Y/%m/%d\")\n",
    "        \n",
    "        name = str(2020) + '_' + elem + '_' + f'{taxi_color}' + '.csv'\n",
    "        \n",
    "        single_df.to_csv(name, index=False)\n",
    "        \n",
    "        print(\"Completed\")\n",
    "    \n",
    "\n",
    "    print(\"csv generated\")\n",
    "    \n",
    "    #return final_df"
   ]
  },
  {
   "cell_type": "code",
   "execution_count": 11,
   "id": "statewide-mailman",
   "metadata": {},
   "outputs": [
    {
     "name": "stdout",
     "output_type": "stream",
     "text": [
      "Asking for http content from https://www1.nyc.gov/site/tlc/about/tlc-trip-record-data.page\n",
      "Filtering by year 2020...\n",
      "html generated\n",
      "list of months requested: ('January', 'February', 'March')\n",
      "Checking month requested January vs months available in the html content...\n",
      "Month provided is valid. Filtering by month...\n",
      "Checking month requested February vs months available in the html content...\n",
      "Month provided is valid. Filtering by month...\n",
      "Checking month requested March vs months available in the html content...\n",
      "Month provided is valid. Filtering by month...\n",
      "Generating csv links table\n",
      "0    https://s3.amazonaws.com/nyc-tlc/trip+data/yellow_tripdata_2020-01.csv\n",
      "4    https://s3.amazonaws.com/nyc-tlc/trip+data/yellow_tripdata_2020-02.csv\n",
      "8    https://s3.amazonaws.com/nyc-tlc/trip+data/yellow_tripdata_2020-03.csv\n",
      "Name: links, dtype: object\n",
      "Reading csv https://s3.amazonaws.com/nyc-tlc/trip+data/yellow_tripdata_2020-01.csv\n"
     ]
    },
    {
     "name": "stderr",
     "output_type": "stream",
     "text": [
      "/home/david/miniconda3/envs/work/lib/python3.7/site-packages/IPython/core/interactiveshell.py:3338: DtypeWarning: Columns (6) have mixed types.Specify dtype option on import or set low_memory=False.\n",
      "  if (await self.run_code(code, result,  async_=asy)):\n"
     ]
    },
    {
     "name": "stdout",
     "output_type": "stream",
     "text": [
      "Completed\n",
      "Reading csv https://s3.amazonaws.com/nyc-tlc/trip+data/yellow_tripdata_2020-02.csv\n",
      "Completed\n",
      "Reading csv https://s3.amazonaws.com/nyc-tlc/trip+data/yellow_tripdata_2020-03.csv\n",
      "Completed\n",
      "csv generated\n"
     ]
    }
   ],
   "source": [
    "csv_to_df(2020, 'Yellow', 'January', 'February', 'March')"
   ]
  },
  {
   "cell_type": "code",
   "execution_count": 12,
   "id": "public-theorem",
   "metadata": {},
   "outputs": [],
   "source": [
    "#full_csv = pd.read_csv('2020_January_February_March_Yellow.csv')\n",
    "#full_csv"
   ]
  },
  {
   "cell_type": "code",
   "execution_count": 13,
   "id": "little-former",
   "metadata": {},
   "outputs": [],
   "source": [
    "#full_csv.dtypes"
   ]
  },
  {
   "cell_type": "code",
   "execution_count": 14,
   "id": "compact-state",
   "metadata": {},
   "outputs": [],
   "source": [
    "#full_csv.head()"
   ]
  },
  {
   "cell_type": "code",
   "execution_count": 15,
   "id": "productive-drill",
   "metadata": {},
   "outputs": [],
   "source": [
    "#full_csv.tail()"
   ]
  },
  {
   "cell_type": "code",
   "execution_count": null,
   "id": "registered-karma",
   "metadata": {
    "collapsed": true,
    "jupyter": {
     "outputs_hidden": true
    }
   },
   "outputs": [],
   "source": []
  }
 ],
 "metadata": {
  "kernelspec": {
   "display_name": "Python [conda env:work]",
   "language": "python",
   "name": "conda-env-work-py"
  },
  "language_info": {
   "codemirror_mode": {
    "name": "ipython",
    "version": 3
   },
   "file_extension": ".py",
   "mimetype": "text/x-python",
   "name": "python",
   "nbconvert_exporter": "python",
   "pygments_lexer": "ipython3",
   "version": "3.7.9"
  }
 },
 "nbformat": 4,
 "nbformat_minor": 5
}
