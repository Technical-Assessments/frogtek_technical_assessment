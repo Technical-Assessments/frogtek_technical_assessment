{
 "cells": [
  {
   "cell_type": "code",
   "execution_count": null,
   "id": "horizontal-cache",
   "metadata": {},
   "outputs": [],
   "source": [
    "from sqlalchemy import create_engine\n",
    "import psycopg2\n",
    "import psycopg2.extras as extras\n",
    "import pandas as pd\n",
    "import numpy as np"
   ]
  },
  {
   "cell_type": "markdown",
   "id": "creative-november",
   "metadata": {},
   "source": [
    "Creating DataBase"
   ]
  },
  {
   "cell_type": "code",
   "execution_count": null,
   "id": "informative-cabin",
   "metadata": {},
   "outputs": [],
   "source": [
    "\n",
    "#establishing the connection\n",
    "conn = psycopg2.connect(\n",
    "   database=\"postgres\", user='postgres', password='Snowdav3', host='127.0.0.1', port= '5432'\n",
    ")\n",
    "\n",
    "conn.autocommit = True\n",
    "\n",
    "#Creating a cursor object using the cursor() method\n",
    "cursor = conn.cursor()\n",
    "\n",
    "#Preparing query to create a database\n",
    "sql = '''CREATE database taxis''';\n",
    "\n",
    "#Creating a database\n",
    "cursor.execute(sql)\n",
    "print(\"Database created successfully........\")\n",
    "\n",
    "#Closing the connection\n",
    "conn.close()"
   ]
  },
  {
   "cell_type": "markdown",
   "id": "conceptual-correction",
   "metadata": {},
   "source": [
    "Conecting to DataBase"
   ]
  },
  {
   "cell_type": "code",
   "execution_count": null,
   "id": "spanish-consultancy",
   "metadata": {},
   "outputs": [],
   "source": [
    "param_dic = {\n",
    "    \"host\"      : \"127.0.0.1\",\n",
    "    \"database\"  : \"taxis\",\n",
    "    \"user\"      : \"postgres\",\n",
    "    \"password\"  : \"Snowdav3\"\n",
    "}"
   ]
  },
  {
   "cell_type": "code",
   "execution_count": null,
   "id": "accessory-stuff",
   "metadata": {},
   "outputs": [],
   "source": [
    "def connect(params_dic):\n",
    "    \"\"\" Connect to the PostgreSQL database server \"\"\"\n",
    "    conn = None\n",
    "    try:\n",
    "        # connect to the PostgreSQL server\n",
    "        print('Connecting to the PostgreSQL database...')\n",
    "        conn = psycopg2.connect(**params_dic)\n",
    "    except (Exception, psycopg2.DatabaseError) as error:\n",
    "        print(error)\n",
    "        sys.exit(1) \n",
    "    print('Connection succesful')\n",
    "    \n",
    "    return conn"
   ]
  },
  {
   "cell_type": "code",
   "execution_count": null,
   "id": "republican-answer",
   "metadata": {},
   "outputs": [],
   "source": [
    "conn = connect(param_dic)"
   ]
  },
  {
   "cell_type": "markdown",
   "id": "bridal-strand",
   "metadata": {},
   "source": [
    "Creating Table in the DataBase"
   ]
  },
  {
   "cell_type": "code",
   "execution_count": null,
   "id": "indian-export",
   "metadata": {},
   "outputs": [],
   "source": [
    "def creating_table():\n",
    "    cursor = conn.cursor()\n",
    "    \n",
    "    sql ='''CREATE TABLE yellowtaxis(\n",
    "       VendorID float,\n",
    "       tpep_pickup_datetime timestamp,\n",
    "       tpep_dropoff_datetime timestamp,\n",
    "       passenger_count float,\n",
    "       trip_distance float,\n",
    "       RatecodeID float,\n",
    "       store_and_fwd_flag varchar,\n",
    "       PULocationID float,\n",
    "       DOLocationID float,\n",
    "       payment_type float,\n",
    "       fare_amount float,\n",
    "       extra float,\n",
    "       mta_tax float,\n",
    "       tip_amount float,\n",
    "       tolls_amount float,\n",
    "       improvement_surcharge float,\n",
    "       total_amount float,\n",
    "       congestion_surcharge float\n",
    "    );'''\n",
    "    \n",
    "    cursor.execute(sql)\n",
    "    print(\"Table created\")\n",
    "    conn.commit()\n",
    "    cursor.close()\n",
    "    print(\"Cursor object closed\")\n",
    "    conn.rollback()\n",
    "    conn.close()\n",
    "    print(\"conn closed\")"
   ]
  },
  {
   "cell_type": "code",
   "execution_count": null,
   "id": "convinced-worth",
   "metadata": {},
   "outputs": [],
   "source": [
    "creating_table()"
   ]
  },
  {
   "cell_type": "code",
   "execution_count": null,
   "id": "abandoned-matter",
   "metadata": {},
   "outputs": [],
   "source": [
    "months_csv = pd.read_csv('2020_January_February_March_Yellow.csv')\n",
    "months_csv"
   ]
  },
  {
   "cell_type": "code",
   "execution_count": null,
   "id": "negative-pencil",
   "metadata": {},
   "outputs": [],
   "source": [
    "months_csv.dtypes"
   ]
  },
  {
   "cell_type": "code",
   "execution_count": null,
   "id": "growing-upper",
   "metadata": {},
   "outputs": [],
   "source": [
    "type_object = months_csv.select_dtypes(include='object').columns.to_list()\n",
    "type_object.pop()#.astype('str').dtypes\n",
    "\n",
    "\n",
    "for elem in type_object:\n",
    "    months_csv[f\"{elem}\"] = pd.to_datetime(months_csv[f\"{elem}\"], yearfirst=True, format=\"%Y/%m/%d\")\n",
    "months_csv.dtypes"
   ]
  },
  {
   "cell_type": "code",
   "execution_count": null,
   "id": "german-freeware",
   "metadata": {},
   "outputs": [],
   "source": [
    "months_csv"
   ]
  },
  {
   "cell_type": "code",
   "execution_count": null,
   "id": "wooden-making",
   "metadata": {},
   "outputs": [],
   "source": [
    "conn = connect(param_dic)"
   ]
  },
  {
   "cell_type": "code",
   "execution_count": null,
   "id": "cosmetic-craft",
   "metadata": {},
   "outputs": [],
   "source": [
    "def execute_batch(conn, df, table, page_size=100):\n",
    "    \"\"\"\n",
    "    Using psycopg2.extras.execute_batch() to insert the dataframe\n",
    "    \"\"\"\n",
    "    \n",
    "    print(\"Converting DataFrame rows into tuples\")\n",
    "    tuples = [tuple(x) for x in df.to_numpy()]\n",
    "    print(\"Creating columns\")\n",
    "    cols = ','.join(list(df.columns))\n",
    "    # SQL quert to execute\n",
    "    query  = \"INSERT INTO %s(%s) VALUES(%%s,%%s,%%s,%%s,%%s,%%s,%%s,%%s,%%s,%%s,%%s,%%s,%%s,%%s,%%s,%%s,%%s,%%s)\" % (table, cols)\n",
    "    print(\"Creating cursor\")\n",
    "    cursor = conn.cursor()\n",
    "    print(\"Cursor created\")\n",
    "    try:\n",
    "        print(f\"Inserting values into the {table} table\")\n",
    "        extras.execute_batch(cursor, query, tuples, page_size)\n",
    "        conn.commit()\n",
    "    except (Exception, psycopg2.DatabaseError) as error:\n",
    "        print(\"Ha entrado en el except\")\n",
    "        print(\"Error: %s\" % error)\n",
    "        conn.rollback()\n",
    "        cursor.close()\n",
    "        return 1\n",
    "    print(f\"Batch executed succesfully, all dataframe values inserted into the {table} table at {cursor.connection}\")\n",
    "    cursor.close()\n",
    "    "
   ]
  },
  {
   "cell_type": "code",
   "execution_count": null,
   "id": "super-norwegian",
   "metadata": {},
   "outputs": [],
   "source": [
    "execute_batch(conn, months_csv, 'yellowtaxis')"
   ]
  },
  {
   "cell_type": "code",
   "execution_count": null,
   "id": "useful-command",
   "metadata": {},
   "outputs": [],
   "source": []
  },
  {
   "cell_type": "code",
   "execution_count": null,
   "id": "inner-inventory",
   "metadata": {},
   "outputs": [],
   "source": [
    "conn.rollback()\n",
    "#conn.close()"
   ]
  },
  {
   "cell_type": "code",
   "execution_count": null,
   "id": "imposed-angola",
   "metadata": {},
   "outputs": [],
   "source": [
    "import pandas as pd\n",
    "fg = pd.DataFrame({'col1': [1, 2], 'col2': [3, 4]})\n",
    "fg"
   ]
  },
  {
   "cell_type": "code",
   "execution_count": null,
   "id": "intermediate-examination",
   "metadata": {},
   "outputs": [],
   "source": [
    "tuples = [tuple(x) for x in fg.to_numpy()]"
   ]
  },
  {
   "cell_type": "code",
   "execution_count": null,
   "id": "biological-gardening",
   "metadata": {},
   "outputs": [],
   "source": [
    "tuples"
   ]
  },
  {
   "cell_type": "code",
   "execution_count": null,
   "id": "focused-press",
   "metadata": {},
   "outputs": [],
   "source": []
  }
 ],
 "metadata": {
  "kernelspec": {
   "display_name": "Python [conda env:work]",
   "language": "python",
   "name": "conda-env-work-py"
  },
  "language_info": {
   "codemirror_mode": {
    "name": "ipython",
    "version": 3
   },
   "file_extension": ".py",
   "mimetype": "text/x-python",
   "name": "python",
   "nbconvert_exporter": "python",
   "pygments_lexer": "ipython3",
   "version": "3.7.9"
  }
 },
 "nbformat": 4,
 "nbformat_minor": 5
}
